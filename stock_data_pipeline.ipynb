{
 "cells": [
  {
   "cell_type": "code",
   "execution_count": 33,
   "id": "a2b8903d",
   "metadata": {},
   "outputs": [],
   "source": [
    "import yfinance as yf\n",
    "import pandas as pd"
   ]
  },
  {
   "cell_type": "code",
   "execution_count": 22,
   "id": "77791e89",
   "metadata": {},
   "outputs": [
    {
     "name": "stderr",
     "output_type": "stream",
     "text": [
      "\r",
      "[*********************100%***********************]  1 of 1 completed"
     ]
    },
    {
     "name": "stdout",
     "output_type": "stream",
     "text": [
      "Price            Close        High         Low        Open     Volume\n",
      "Ticker            AAPL        AAPL        AAPL        AAPL       AAPL\n",
      "Date                                                                 \n",
      "2023-01-03  123.768456  129.537780  122.877820  128.924237  112117500\n",
      "2023-01-04  125.045044  127.321112  123.778365  125.569527   89113600\n",
      "2023-01-05  123.718979  126.440361  123.461690  125.807022   80962700\n",
      "2023-01-06  128.271118  128.934144  123.590345  124.698692   87754700\n",
      "2023-01-09  128.795593  132.021678  128.538304  129.112270   70790800\n"
     ]
    },
    {
     "name": "stderr",
     "output_type": "stream",
     "text": [
      "\n"
     ]
    }
   ],
   "source": [
    "ticker = \"AAPL\" \n",
    "start_date = \"2023-01-01\"\n",
    "end_date = \"2023-10-01\"\n",
    "\n",
    "stock_data = yf.download(ticker, start=start_date, end=end_date)\n",
    "\n",
    "print(stock_data.head())"
   ]
  },
  {
   "cell_type": "code",
   "execution_count": 27,
   "id": "6c7b8418",
   "metadata": {},
   "outputs": [
    {
     "name": "stdout",
     "output_type": "stream",
     "text": [
      "✅ Connected to MySQL.\n",
      "✅ Data inserted successfully.\n",
      "🔌 MySQL connection closed.\n"
     ]
    }
   ],
   "source": [
    "import mysql.connector\n",
    "\n",
    "# Connect to MySQL\n",
    "try:\n",
    "    conn = mysql.connector.connect(\n",
    "        host=\"localhost\",\n",
    "        user=\"root\",  # Replace with your MySQL username\n",
    "        password=\"########\",  # Replace with your MySQL password\n",
    "        database=\"finance_project\",\n",
    "        use_pure=True\n",
    "    )\n",
    "    cursor = conn.cursor()\n",
    "    print(\"✅ Connected to MySQL.\")\n",
    "\n",
    "    # Insert stock data into MySQL\n",
    "    for index, row in stock_data.iterrows():\n",
    "        try:\n",
    "            cursor.execute(\"\"\"\n",
    "                INSERT INTO stock_data (Date, Open, High, Low, Close, Volume)\n",
    "                VALUES (%s, %s, %s, %s, %s, %s)\n",
    "            \"\"\", (\n",
    "                index.strftime('%Y-%m-%d'), \n",
    "                float(row['Open'].iloc[0]),          \n",
    "                float(row['High'].iloc[0]),          \n",
    "                float(row['Low'].iloc[0]),           \n",
    "                float(row['Close'].iloc[0]),         \n",
    "                int(row['Volume'].iloc[0])           \n",
    "            ))\n",
    "        except mysql.connector.Error as err:\n",
    "            print(f\"❌ Error inserting row {index}: {err}\")\n",
    "\n",
    "    # Commit changes\n",
    "    conn.commit()\n",
    "    print(\"✅ Data inserted successfully.\")\n",
    "\n",
    "except mysql.connector.Error as err:\n",
    "    print(f\"❌ Database connection error: {err}\")\n",
    "\n",
    "finally:\n",
    "    if conn:\n",
    "        cursor.close()\n",
    "        conn.close()\n",
    "        print(\"🔌 MySQL connection closed.\")"
   ]
  },
  {
   "cell_type": "code",
   "execution_count": null,
   "id": "c7920e8f",
   "metadata": {},
   "outputs": [],
   "source": []
  }
 ],
 "metadata": {
  "kernelspec": {
   "display_name": "mysql_conn",
   "language": "python",
   "name": "mysql_conn"
  },
  "language_info": {
   "codemirror_mode": {
    "name": "ipython",
    "version": 3
   },
   "file_extension": ".py",
   "mimetype": "text/x-python",
   "name": "python",
   "nbconvert_exporter": "python",
   "pygments_lexer": "ipython3",
   "version": "3.11.4"
  }
 },
 "nbformat": 4,
 "nbformat_minor": 5
}
